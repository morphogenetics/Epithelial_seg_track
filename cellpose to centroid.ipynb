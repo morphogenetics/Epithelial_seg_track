{
 "cells": [
  {
   "cell_type": "code",
   "execution_count": 2,
   "id": "sealed-baseline",
   "metadata": {},
   "outputs": [],
   "source": [
    "import numpy as np\n",
    "import time, os, sys\n",
    "from urllib.parse import urlparse\n",
    "import matplotlib.pyplot as plt\n",
    "import matplotlib as mpl\n",
    "%matplotlib inline\n",
    "\n",
    "from scipy.ndimage.measurements import center_of_mass as som\n",
    "\n",
    "mpl.rcParams['figure.dpi'] = 300\n",
    "from cellpose import models, utils, io"
   ]
  },
  {
   "cell_type": "code",
   "execution_count": 3,
   "id": "virtual-brand",
   "metadata": {},
   "outputs": [],
   "source": [
    "\n",
    "\n",
    "#img = the img u just segmented\n",
    "#frame = whats the frame #\n",
    "#omnibus = what list do u want to append too...writign to file probably better \n",
    "\n",
    "track_arr = []\n",
    "\n",
    "def get_centroids(inp_image,frame,omnibus):\n",
    "    centroid_list = []\n",
    "    props = measure.regionprops(inp_image)\n",
    "    for q in range(1,np.unique(inp_image).shape[0] -1):\n",
    "        #print(q)\n",
    "        centroid_coords =list(props[q].centroid)\n",
    "        centroid_coords.insert(0,frame)\n",
    "        omnibus.append(centroid_coords)\n",
    "\n",
    "\n",
    "def frame_to_mask(frame):\n",
    "    # DEFINE CELLPOSE MODEL\n",
    "    # model_type='cyto' or model_type='nuclei'\n",
    "    model = models.Cellpose(gpu=False, model_type='cyto')\n",
    "\n",
    "    chan = [0,0]\n",
    "    masks, flows, styles, diams = model.eval(frame, channels=chan, diameter = 65, flow_threshold= 0.8,resample = True)\n",
    "    return masks\n",
    "\n",
    "def preprocess_frame(chann_ar,frame):\n",
    "    nuc = normalize99(chann_ar[frame,1,:,:])\n",
    "    other = normalize99((chann_ar[frame,0,:,:]) + (chann_ar[frame + 1,0,:,:]  + (chann_ar[frame + 2,0,:,:])))\n",
    "    bright = normalize99(chann_ar[frame,2,:,:])\n",
    "    new_img = normalize99(nuc - other)\n",
    "    \n",
    "    return new_img\n",
    "def normalize99(img):\n",
    "    \"\"\" normalize image so 0.0 is 1st percentile and 1.0 is 99th percentile \"\"\"\n",
    "    X = img.copy()\n",
    "    X = (X - np.percentile(X, 1)) / (np.percentile(X, 99) - np.percentile(X, 1))\n",
    "    return X\n"
   ]
  },
  {
   "cell_type": "code",
   "execution_count": 5,
   "id": "domestic-milan",
   "metadata": {},
   "outputs": [
    {
     "name": "stdout",
     "output_type": "stream",
     "text": [
      ">>>> using CPU\n",
      "Running test snippet to check if MKL-DNN working\n",
      "see https://pytorch.org/docs/stable/backends.html?highlight=mkl\n",
      "** MKL version working - CPU version is sped up. **\n",
      "processing 1 image(s)\n",
      "time spent: running network 6.86s; flow+mask computation 9.84\n",
      "estimated masks for 1 image(s) in 16.77 sec\n",
      ">>>> TOTAL TIME 16.77 sec\n"
     ]
    },
    {
     "ename": "NameError",
     "evalue": "name 'measure' is not defined",
     "output_type": "error",
     "traceback": [
      "\u001b[0;31m---------------------------------------------------------------------------\u001b[0m",
      "\u001b[0;31mNameError\u001b[0m                                 Traceback (most recent call last)",
      "\u001b[0;32m<ipython-input-5-06e5530dd5c9>\u001b[0m in \u001b[0;36m<module>\u001b[0;34m\u001b[0m\n\u001b[1;32m      5\u001b[0m     \u001b[0mprocessed\u001b[0m \u001b[0;34m=\u001b[0m \u001b[0mpreprocess_frame\u001b[0m\u001b[0;34m(\u001b[0m\u001b[0mtime_series\u001b[0m\u001b[0;34m,\u001b[0m\u001b[0mi\u001b[0m\u001b[0;34m)\u001b[0m\u001b[0;34m\u001b[0m\u001b[0;34m\u001b[0m\u001b[0m\n\u001b[1;32m      6\u001b[0m     \u001b[0mframe_mask\u001b[0m \u001b[0;34m=\u001b[0m \u001b[0mframe_to_mask\u001b[0m\u001b[0;34m(\u001b[0m\u001b[0mprocessed\u001b[0m\u001b[0;34m)\u001b[0m\u001b[0;34m\u001b[0m\u001b[0;34m\u001b[0m\u001b[0m\n\u001b[0;32m----> 7\u001b[0;31m     \u001b[0mget_centroids\u001b[0m\u001b[0;34m(\u001b[0m\u001b[0mframe_mask\u001b[0m\u001b[0;34m,\u001b[0m\u001b[0mi\u001b[0m\u001b[0;34m,\u001b[0m\u001b[0mtrack_arr\u001b[0m\u001b[0;34m)\u001b[0m\u001b[0;34m\u001b[0m\u001b[0;34m\u001b[0m\u001b[0m\n\u001b[0m",
      "\u001b[0;32m<ipython-input-3-f37adb30a6fa>\u001b[0m in \u001b[0;36mget_centroids\u001b[0;34m(inp_image, frame, omnibus)\u001b[0m\n\u001b[1;32m      7\u001b[0m \u001b[0;32mdef\u001b[0m \u001b[0mget_centroids\u001b[0m\u001b[0;34m(\u001b[0m\u001b[0minp_image\u001b[0m\u001b[0;34m,\u001b[0m\u001b[0mframe\u001b[0m\u001b[0;34m,\u001b[0m\u001b[0momnibus\u001b[0m\u001b[0;34m)\u001b[0m\u001b[0;34m:\u001b[0m\u001b[0;34m\u001b[0m\u001b[0;34m\u001b[0m\u001b[0m\n\u001b[1;32m      8\u001b[0m     \u001b[0mcentroid_list\u001b[0m \u001b[0;34m=\u001b[0m \u001b[0;34m[\u001b[0m\u001b[0;34m]\u001b[0m\u001b[0;34m\u001b[0m\u001b[0;34m\u001b[0m\u001b[0m\n\u001b[0;32m----> 9\u001b[0;31m     \u001b[0mprops\u001b[0m \u001b[0;34m=\u001b[0m \u001b[0mmeasure\u001b[0m\u001b[0;34m.\u001b[0m\u001b[0mregionprops\u001b[0m\u001b[0;34m(\u001b[0m\u001b[0minp_image\u001b[0m\u001b[0;34m)\u001b[0m\u001b[0;34m\u001b[0m\u001b[0;34m\u001b[0m\u001b[0m\n\u001b[0m\u001b[1;32m     10\u001b[0m     \u001b[0;32mfor\u001b[0m \u001b[0mq\u001b[0m \u001b[0;32min\u001b[0m \u001b[0mrange\u001b[0m\u001b[0;34m(\u001b[0m\u001b[0;36m1\u001b[0m\u001b[0;34m,\u001b[0m\u001b[0mnp\u001b[0m\u001b[0;34m.\u001b[0m\u001b[0munique\u001b[0m\u001b[0;34m(\u001b[0m\u001b[0minp_image\u001b[0m\u001b[0;34m)\u001b[0m\u001b[0;34m.\u001b[0m\u001b[0mshape\u001b[0m\u001b[0;34m[\u001b[0m\u001b[0;36m0\u001b[0m\u001b[0;34m]\u001b[0m \u001b[0;34m-\u001b[0m\u001b[0;36m1\u001b[0m\u001b[0;34m)\u001b[0m\u001b[0;34m:\u001b[0m\u001b[0;34m\u001b[0m\u001b[0;34m\u001b[0m\u001b[0m\n\u001b[1;32m     11\u001b[0m         \u001b[0;31m#print(q)\u001b[0m\u001b[0;34m\u001b[0m\u001b[0;34m\u001b[0m\u001b[0;34m\u001b[0m\u001b[0m\n",
      "\u001b[0;31mNameError\u001b[0m: name 'measure' is not defined"
     ]
    }
   ],
   "source": [
    "vascu_frames = \"/home/lpe/Desktop/vasc_tsrs/200123_mEos_cells_4.tif\"###### Our times series\n",
    "time_series = io.imread(vascu_frames)\n",
    "\n",
    "for i in range(time_series.shape[0] -2):\n",
    "    processed = preprocess_frame(time_series,i)\n",
    "    frame_mask = frame_to_mask(processed)\n",
    "    get_centroids(frame_mask,i,track_arr)"
   ]
  },
  {
   "cell_type": "code",
   "execution_count": null,
   "id": "informed-elite",
   "metadata": {},
   "outputs": [],
   "source": [
    "point2track = np.asarray(track_arr)\n",
    "np.savetxt(\"/home/lpe/Desktop/cellpose/epithelial_points2track.txt\",point2track)"
   ]
  },
  {
   "cell_type": "code",
   "execution_count": null,
   "id": "bridal-silicon",
   "metadata": {},
   "outputs": [],
   "source": []
  },
  {
   "cell_type": "code",
   "execution_count": null,
   "id": "occupied-auditor",
   "metadata": {},
   "outputs": [],
   "source": []
  },
  {
   "cell_type": "code",
   "execution_count": null,
   "id": "coordinated-amsterdam",
   "metadata": {},
   "outputs": [],
   "source": []
  },
  {
   "cell_type": "code",
   "execution_count": null,
   "id": "stunning-ghost",
   "metadata": {},
   "outputs": [],
   "source": []
  },
  {
   "cell_type": "code",
   "execution_count": null,
   "id": "needed-survey",
   "metadata": {},
   "outputs": [],
   "source": []
  },
  {
   "cell_type": "code",
   "execution_count": null,
   "id": "digital-neighbor",
   "metadata": {},
   "outputs": [],
   "source": []
  },
  {
   "cell_type": "code",
   "execution_count": null,
   "id": "homeless-arnold",
   "metadata": {},
   "outputs": [],
   "source": []
  },
  {
   "cell_type": "code",
   "execution_count": null,
   "id": "complex-accounting",
   "metadata": {},
   "outputs": [],
   "source": []
  },
  {
   "cell_type": "code",
   "execution_count": null,
   "id": "sought-creativity",
   "metadata": {},
   "outputs": [],
   "source": []
  },
  {
   "cell_type": "code",
   "execution_count": null,
   "id": "meaning-trial",
   "metadata": {},
   "outputs": [],
   "source": []
  }
 ],
 "metadata": {
  "kernelspec": {
   "display_name": "cell_pose",
   "language": "python",
   "name": "cell_pose"
  },
  "language_info": {
   "codemirror_mode": {
    "name": "ipython",
    "version": 3
   },
   "file_extension": ".py",
   "mimetype": "text/x-python",
   "name": "python",
   "nbconvert_exporter": "python",
   "pygments_lexer": "ipython3",
   "version": "3.7.10"
  }
 },
 "nbformat": 4,
 "nbformat_minor": 5
}
