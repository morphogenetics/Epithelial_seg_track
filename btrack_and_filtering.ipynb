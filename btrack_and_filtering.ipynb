{
 "cells": [
  {
   "cell_type": "code",
   "execution_count": null,
   "metadata": {},
   "outputs": [],
   "source": []
  },
  {
   "cell_type": "code",
   "execution_count": 1,
   "metadata": {},
   "outputs": [],
   "source": [
    "#provisionval Btrack - notebook\n",
    "\n",
    "import os\n",
    "import json\n",
    "\n",
    "import btrack\n",
    "import napari\n",
    "\n",
    "import numpy as np\n",
    "import pandas as pd\n",
    "\n",
    "from skimage import io\n",
    "from napari.utils import nbscreenshot\n",
    "import tifffile as tiff\n",
    "\n",
    "import napari\n",
    "#from napari.utils import nbscreenshot\n",
    "import glob\n",
    "#import numpy as np\n",
    "#from skimage import io\n",
    "import matplotlib.pyplot as plt\n",
    "\n"
   ]
  },
  {
   "cell_type": "code",
   "execution_count": null,
   "metadata": {},
   "outputs": [],
   "source": []
  },
  {
   "cell_type": "code",
   "execution_count": 2,
   "metadata": {},
   "outputs": [],
   "source": [
    "# Import Centroids of detected masks and then convert\n",
    "\n",
    "points_conepi = np.genfromtxt(\"/home/lpe/Desktop/cellpose/epithelial_points2track.txt\")    \n",
    "points_flipped = np.swapaxes(points_conepi, 0, 1)\n",
    "points_flippedc = np.swapaxes(points_conepi, 0, 1)\n",
    "\n",
    "new_points = points_conepi[points_conepi[:,0] == 0,:]\n",
    "\n",
    "objectz = btrack.dataio.objects_from_array(points_conepi)"
   ]
  },
  {
   "cell_type": "code",
   "execution_count": 3,
   "metadata": {},
   "outputs": [
    {
     "name": "stderr",
     "output_type": "stream",
     "text": [
      "[INFO][2021/03/17 04:11:27 PM] Loaded btrack: /home/lpe/miniconda3/envs/btrack/lib/python3.7/site-packages/btrack/libs/libtracker.so\n",
      "[INFO][2021/03/17 04:11:27 PM] btrack (v0.4.0) library imported\n",
      "[INFO][2021/03/17 04:11:27 PM] Setting max XYZ search radius to: 100\n",
      "[INFO][2021/03/17 04:11:27 PM] Starting BayesianTracker session\n",
      "[INFO][2021/03/17 04:11:27 PM] Loading configuration file: cell_config.json\n",
      "[INFO][2021/03/17 04:11:27 PM] Loading motion model: b'cell_motion'\n",
      "[INFO][2021/03/17 04:11:27 PM] Objects are of type: <class 'list'>\n",
      "[INFO][2021/03/17 04:11:27 PM] Setting Bayesian update method to: BayesianUpdates.EXACT\n",
      "[INFO][2021/03/17 04:11:27 PM] Setting max XYZ search radius to: 12\n",
      "[INFO][2021/03/17 04:11:27 PM] Set volume to ((0, 1024), (0, 1024), (-100000.0, 100000.0))\n",
      "[INFO][2021/03/17 04:11:27 PM] Starting tracking... \n",
      "[INFO][2021/03/17 04:11:27 PM] Tracking objects in frames 0 to 99 (of 282)...\n",
      "[INFO][2021/03/17 04:11:32 PM]  - Timing (Bayesian updates: 58.41ms, Linking: 1.85ms)\n",
      "[INFO][2021/03/17 04:11:32 PM]  - Probabilities (Link: 0.75843, Lost: 0.98664)\n",
      "[INFO][2021/03/17 04:11:32 PM]  - Stats (Active: 747, Lost: 43715, Conflicts resolved: 233)\n",
      "[INFO][2021/03/17 04:11:32 PM] Tracking objects in frames 100 to 199 (of 282)...\n",
      "[INFO][2021/03/17 04:11:37 PM]  - Timing (Bayesian updates: 37.61ms, Linking: 1.52ms)\n",
      "[INFO][2021/03/17 04:11:37 PM]  - Probabilities (Link: 0.99999, Lost: 1.00000)\n",
      "[INFO][2021/03/17 04:11:37 PM]  - Stats (Active: 575, Lost: 93302, Conflicts resolved: 475)\n",
      "[INFO][2021/03/17 04:11:37 PM] Tracking objects in frames 200 to 282 (of 282)...\n",
      "[INFO][2021/03/17 04:11:41 PM]  - Timing (Bayesian updates: 50.43ms, Linking: 1.85ms)\n",
      "[INFO][2021/03/17 04:11:41 PM]  - Probabilities (Link: 0.99757, Lost: 1.00000)\n",
      "[INFO][2021/03/17 04:11:41 PM] SUCCESS.\n",
      "[INFO][2021/03/17 04:11:41 PM]  - Found 21796 tracks in 282 frames (in 0.0s)\n",
      "[INFO][2021/03/17 04:11:41 PM]  - Inserted 1952 dummy objects to fill tracking gaps\n",
      "[INFO][2021/03/17 04:11:41 PM] Loading hypothesis model: cell_hypothesis\n",
      "[INFO][2021/03/17 04:11:41 PM] Calculating hypotheses (relax: True)...\n",
      "[INFO][2021/03/17 04:11:42 PM] Setting up constraints matrix for global optimisation...\n",
      "[INFO][2021/03/17 04:11:49 PM] Optimizing...\n",
      "[INFO][2021/03/17 04:13:01 PM] Optimization complete. (Solution: optimal)\n",
      "[INFO][2021/03/17 04:13:01 PM]  - Fates.FALSE_POSITIVE: 18995 (of 21796)\n",
      "[INFO][2021/03/17 04:13:01 PM]  - Fates.LINK: 2098 (of 62084)\n",
      "[INFO][2021/03/17 04:13:01 PM]  - Fates.INITIALIZE_BORDER: 475 (of 6440)\n",
      "[INFO][2021/03/17 04:13:01 PM]  - Fates.INITIALIZE_FRONT: 115 (of 197)\n",
      "[INFO][2021/03/17 04:13:01 PM]  - Fates.INITIALIZE_LAZY: 113 (of 15159)\n",
      "[INFO][2021/03/17 04:13:01 PM]  - Fates.TERMINATE_BORDER: 451 (of 6396)\n",
      "[INFO][2021/03/17 04:13:01 PM]  - Fates.TERMINATE_BACK: 142 (of 268)\n",
      "[INFO][2021/03/17 04:13:01 PM]  - Fates.TERMINATE_LAZY: 110 (of 15132)\n",
      "[INFO][2021/03/17 04:13:01 PM]  - TOTAL: 127472 hypotheses\n",
      "[INFO][2021/03/17 04:13:02 PM] Completed optimization with 19698 tracks\n",
      "[INFO][2021/03/17 04:13:03 PM] Ending BayesianTracker session\n"
     ]
    }
   ],
   "source": [
    "# initialise a tracker session using a context manager\n",
    "with btrack.BayesianTracker() as tracker:\n",
    "\n",
    "    # configure the tracker using a config file\n",
    "    tracker.configure_from_file('../models/cell_config.json')\n",
    "    # append the objects to be tracked\n",
    "    tracker.append(objectz)\n",
    "    tracker.update_method = btrack.constants.BayesianUpdates.EXACT\n",
    "    tracker.max_search_radius = 12\n",
    "\n",
    "    # set the volume (Z axis volume is set very large for 2D data)\n",
    "    tracker.volume=((0,1024), (0,1024), (-1e5,1e5))\n",
    "\n",
    "    # track them (in interactive mode)\n",
    "    tracker.track_interactive(step_size=100)\n",
    "\n",
    "    # generate hypotheses and run the global optimizer\n",
    "    tracker.optimize()\n",
    "    \n",
    "    tracks = tracker.tracks\n",
    "\n",
    "#     tracker.export('./test3.hdf5', obj_type='obj_type_1')\n",
    "\n",
    "    # get the tracks in a format for napari visualization\n",
    "    data, properties, graph = tracker.to_napari(ndim=2)"
   ]
  },
  {
   "cell_type": "code",
   "execution_count": 4,
   "metadata": {},
   "outputs": [],
   "source": [
    "long_tracks = []\n",
    "\n",
    "for trackelt in tracks:\n",
    "    if len(trackelt) > 50:\n",
    "        \n",
    "        timestamps = trackelt.t\n",
    "        x = trackelt.x\n",
    "        y = trackelt.y\n",
    "        track_id = trackelt.ID\n",
    "\n",
    "        trackz = np.zeros(((len(trackelt)), 4), dtype=np.float32)\n",
    "    \n",
    "        track_id = track_id * len(trackelt)\n",
    "        trackz[:, 0] = track_id\n",
    "        trackz[:, 1] = timestamps\n",
    "        trackz[:, 3] = y\n",
    "        trackz[:, 2] = x\n",
    "\n",
    "        long_tracks.append(trackz)\n",
    "        \n",
    "long_tracks = np.concatenate(long_tracks, axis=0)\n",
    "\n"
   ]
  },
  {
   "cell_type": "code",
   "execution_count": 5,
   "metadata": {},
   "outputs": [
    {
     "name": "stdout",
     "output_type": "stream",
     "text": [
      "(284, 3, 1024, 1024)\n"
     ]
    }
   ],
   "source": [
    "\n",
    "origin=(1024/2,1024/2)\n",
    "vascu_frames = \"/home/lpe/Desktop/vasc_tsrs/200123_mEos_cells_4.tif\"###### Our times series\n",
    "vascu_tif = tiff.imread(vascu_frames)\n",
    "print(vascu_tif.shape)\n",
    "\n",
    "vascu_tif = vascu_tif[1:283,0,:,:]\n",
    "\n",
    "with napari.gui_qt():\n",
    "    viewer = napari.Viewer()\n",
    "    viewer.add_tracks(long_tracks, name='fat stacks')\n",
    "    viewer.add_image(vascu_tif)\n",
    "\n",
    "#    viewer.add_points(\n",
    "#            points_flipped,\n",
    "#            size = .8,\n",
    "#            face_color=\"orange\",\n",
    "#            symbol = 'ring'\n",
    "#            )"
   ]
  },
  {
   "cell_type": "code",
   "execution_count": null,
   "metadata": {},
   "outputs": [],
   "source": []
  }
 ],
 "metadata": {
  "kernelspec": {
   "display_name": "B_track",
   "language": "python",
   "name": "b_track"
  },
  "language_info": {
   "codemirror_mode": {
    "name": "ipython",
    "version": 3
   },
   "file_extension": ".py",
   "mimetype": "text/x-python",
   "name": "python",
   "nbconvert_exporter": "python",
   "pygments_lexer": "ipython3",
   "version": "3.7.9"
  }
 },
 "nbformat": 4,
 "nbformat_minor": 2
}
